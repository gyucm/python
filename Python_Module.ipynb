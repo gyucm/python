{
 "cells": [
  {
   "cell_type": "code",
   "execution_count": 1,
   "id": "d476e793",
   "metadata": {},
   "outputs": [],
   "source": [
    "def hello(name):\n",
    "    print('{}님 안녕하세요'.format(name))\n",
    "def niceMeet(name):\n",
    "    print('{}님 만나서 반갑습니다.'.format(name))"
   ]
  },
  {
   "cell_type": "code",
   "execution_count": 2,
   "id": "bd71eae6",
   "metadata": {},
   "outputs": [
    {
     "name": "stdout",
     "output_type": "stream",
     "text": [
      "김연아님 안녕하세요\n"
     ]
    }
   ],
   "source": [
    "hello('김연아')"
   ]
  },
  {
   "cell_type": "code",
   "execution_count": 4,
   "id": "7cf2c7ed",
   "metadata": {},
   "outputs": [
    {
     "name": "stdout",
     "output_type": "stream",
     "text": [
      "김연아님 만나서 반갑습니다.\n"
     ]
    }
   ],
   "source": [
    "niceMeet('김연아')"
   ]
  },
  {
   "cell_type": "code",
   "execution_count": 5,
   "id": "157bd018",
   "metadata": {},
   "outputs": [],
   "source": [
    "import greet"
   ]
  },
  {
   "cell_type": "code",
   "execution_count": 6,
   "id": "31bede55",
   "metadata": {},
   "outputs": [
    {
     "name": "stdout",
     "output_type": "stream",
     "text": [
      "김연아님 안녕하세요\n"
     ]
    }
   ],
   "source": [
    "greet.hello('김연아')"
   ]
  },
  {
   "cell_type": "code",
   "execution_count": 7,
   "id": "8579b6ad",
   "metadata": {},
   "outputs": [
    {
     "name": "stdout",
     "output_type": "stream",
     "text": [
      "김연아님 만나서 반갑습니다.\n"
     ]
    }
   ],
   "source": [
    "greet.niceMeet('김연아')"
   ]
  },
  {
   "cell_type": "code",
   "execution_count": 8,
   "id": "1f8c3d34",
   "metadata": {},
   "outputs": [],
   "source": [
    "from greet import hello, niceMeet"
   ]
  },
  {
   "cell_type": "code",
   "execution_count": 9,
   "id": "83d4c992",
   "metadata": {},
   "outputs": [
    {
     "name": "stdout",
     "output_type": "stream",
     "text": [
      "홍길동님 안녕하세요\n"
     ]
    }
   ],
   "source": [
    "hello('홍길동')"
   ]
  },
  {
   "cell_type": "code",
   "execution_count": 10,
   "id": "097a9eae",
   "metadata": {},
   "outputs": [
    {
     "name": "stdout",
     "output_type": "stream",
     "text": [
      "홍길동님 만나서 반갑습니다.\n"
     ]
    }
   ],
   "source": [
    "niceMeet('홍길동')"
   ]
  },
  {
   "cell_type": "code",
   "execution_count": 11,
   "id": "ff61eb37",
   "metadata": {},
   "outputs": [],
   "source": [
    "import math"
   ]
  },
  {
   "cell_type": "code",
   "execution_count": 14,
   "id": "872d10a8",
   "metadata": {},
   "outputs": [
    {
     "name": "stdout",
     "output_type": "stream",
     "text": [
      "math.floor(a) :3\n",
      "math.ceil(a) :4\n",
      "round(a) :4\n",
      "math.factorial(round(a)) :24\n"
     ]
    }
   ],
   "source": [
    "a = 3.6\n",
    "print('math.floor(a) :'+ str(math.floor(a)))\n",
    "print('math.ceil(a) :'+ str(math.ceil(a)))\n",
    "print('round(a) :'+ str(round(a)))\n",
    "print('math.factorial(round(a)) :'+ str(math.factorial(round(a))))"
   ]
  },
  {
   "cell_type": "code",
   "execution_count": 15,
   "id": "3be76cf8",
   "metadata": {},
   "outputs": [
    {
     "name": "stdout",
     "output_type": "stream",
     "text": [
      "0.7071067811865476\n",
      "6.123233995736766e-17\n",
      "0.5773502691896257\n"
     ]
    }
   ],
   "source": [
    "b=math.sin(math.pi/4)\n",
    "print(b)\n",
    "b=math.cos(math.pi/2)\n",
    "print(b)\n",
    "b=math.tan(math.pi/6)\n",
    "print(b)"
   ]
  },
  {
   "cell_type": "code",
   "execution_count": 16,
   "id": "5d2b7ea8",
   "metadata": {},
   "outputs": [
    {
     "name": "stdout",
     "output_type": "stream",
     "text": [
      "8.0\n",
      "12.0\n",
      "2.0\n"
     ]
    }
   ],
   "source": [
    "c = math.pow(2,3)\n",
    "print(c)\n",
    "c=math.sqrt(144)\n",
    "print(c)\n",
    "c=math.log10(100)\n",
    "print(c)"
   ]
  },
  {
   "cell_type": "code",
   "execution_count": 17,
   "id": "33bcc44e",
   "metadata": {},
   "outputs": [],
   "source": [
    "import random"
   ]
  },
  {
   "cell_type": "code",
   "execution_count": 29,
   "id": "46d927f8",
   "metadata": {},
   "outputs": [
    {
     "name": "stdout",
     "output_type": "stream",
     "text": [
      "3\n"
     ]
    }
   ],
   "source": [
    "x= random.randint(1,6)\n",
    "print(x)\n",
    "y = random.randint(1,6)\n",
    "print(y)"
   ]
  },
  {
   "cell_type": "code",
   "execution_count": 1,
   "id": "96592b0b",
   "metadata": {},
   "outputs": [
    {
     "ename": "SyntaxError",
     "evalue": "invalid syntax (4025257598.py, line 7)",
     "output_type": "error",
     "traceback": [
      "\u001b[1;36m  File \u001b[1;32m\"C:\\Users\\IoT17\\AppData\\Local\\Temp\\ipykernel_10024\\4025257598.py\"\u001b[1;36m, line \u001b[1;32m7\u001b[0m\n\u001b[1;33m    elif (com == '가위' and my == '바위')\u001b[0m\n\u001b[1;37m                                     ^\u001b[0m\n\u001b[1;31mSyntaxError\u001b[0m\u001b[1;31m:\u001b[0m invalid syntax\n"
     ]
    }
   ],
   "source": [
    "while(True):\n",
    "    com = random.randint('가위','바위','보')\n",
    "    my=input('나:')    \n",
    "    print(\"당신: \"+str(com))\n",
    "    if (com == my):\n",
    "        print('무승부입니다')\n",
    "    elif (com == '가위' and my == '바위')\n",
    "        print('나의 승리입니다')\n",
    "    elif (com == '바위' and my == '보')\n",
    "        print('나의 승리입니다')\n",
    "    elif (com == '보' and my == '가위')\n",
    "        print('나의 승리입니다')\n",
    "    elif (com == '가위' and my == '보')\n",
    "        print('당신의 승리입니다')\n",
    "    elif (com == '바위' and my == '가위')\n",
    "        print('당신의 승리입니다')\n",
    "    elif (com == '보' and my == '바위')\n",
    "        print('당신의 승리입니다')\n",
    "    print('-'*10)\n",
    "    print('계속하려면 y를 입력해주세요')\n",
    "    con=input()\n",
    "    if (con != 'y')\n",
    "        break\n",
    "    \n",
    "        \n",
    "    "
   ]
  },
  {
   "cell_type": "code",
   "execution_count": 34,
   "id": "21a15a16",
   "metadata": {},
   "outputs": [
    {
     "name": "stdout",
     "output_type": "stream",
     "text": [
      "가위-1,바위-2,보-3 (0-종료) : 3\n",
      "인간 vs AI 결과\n",
      " 보    가위\n",
      "인간 승\n",
      "가위-1,바위-2,보-3 (0-종료) : 0\n"
     ]
    }
   ],
   "source": [
    "import random\n",
    "msg = {1:'가위', 2:'바위', 3:'보'}\n",
    "while True:\n",
    "    me = int(input('가위-1,바위-2,보-3 (0-종료) : '))\n",
    "    if me ==0:\n",
    "        break\n",
    "    ai = random.randint(1,3)\n",
    "    print('인간 vs AI 결과')\n",
    "    print(' {}    {}'.format(msg[me],msg[ai]))\n",
    "    if me>ai:\n",
    "        print('인간 승')\n",
    "    if me<ai:\n",
    "        print('AI 승')\n",
    "    if me == ai:\n",
    "        print('무승부')"
   ]
  },
  {
   "cell_type": "markdown",
   "id": "f3307d73",
   "metadata": {},
   "source": [
    "# datetime module"
   ]
  },
  {
   "cell_type": "code",
   "execution_count": 1,
   "id": "22692e6a",
   "metadata": {},
   "outputs": [],
   "source": [
    "from datetime import datetime"
   ]
  },
  {
   "cell_type": "code",
   "execution_count": 2,
   "id": "ebf6ce9f",
   "metadata": {},
   "outputs": [
    {
     "name": "stdout",
     "output_type": "stream",
     "text": [
      "2023-03-16 13:23:06.907918\n",
      "<class 'datetime.datetime'>\n"
     ]
    }
   ],
   "source": [
    "today = datetime.now()\n",
    "print(today)\n",
    "print(type(today))"
   ]
  },
  {
   "cell_type": "code",
   "execution_count": 5,
   "id": "e5410013",
   "metadata": {},
   "outputs": [
    {
     "name": "stdout",
     "output_type": "stream",
     "text": [
      "2023-03-16 13:25:43.495617\n",
      "year is 2023\n",
      "month is 3\n",
      "day is 16\n",
      "hour is 13\n",
      "minute is 25\n",
      "second is 43\n",
      "microsecond is 495617\n",
      "====================\n",
      "2023-03-16 13:25:48.509812\n",
      "year is 2023\n",
      "month is 3\n",
      "day is 16\n",
      "hour is 13\n",
      "minute is 25\n",
      "second is 48\n",
      "microsecond is 509812\n",
      "now - pre : 0:00:05.014195\n"
     ]
    }
   ],
   "source": [
    "from datetime import datetime\n",
    "import time\n",
    "\n",
    "pre = datetime.now()\n",
    "print(pre)\n",
    "print('year is {}'.format(pre.year))\n",
    "print('month is {}'.format(pre.month))\n",
    "print('day is {}'.format(pre.day))\n",
    "print('hour is {}'.format(pre.hour))\n",
    "print('minute is {}'.format(pre.minute))\n",
    "print('second is {}'.format(pre.second))\n",
    "print('microsecond is {:6d}'.format(pre.microsecond))\n",
    "\n",
    "\n",
    "\n",
    "time.sleep(5)\n",
    "print('='*20)\n",
    "\n",
    "\n",
    "now = datetime.now()\n",
    "print(now)\n",
    "print('year is {}'.format(now.year))\n",
    "print('month is {}'.format(now.month))\n",
    "print('day is {}'.format(now.day))\n",
    "print('hour is {}'.format(now.hour))\n",
    "print('minute is {}'.format(now.minute))\n",
    "print('second is {}'.format(now.second))\n",
    "print('microsecond is {:6d}'.format(now.microsecond))\n",
    "\n",
    "print('now - pre : {}'.format(now-pre))\n",
    "\n"
   ]
  },
  {
   "cell_type": "code",
   "execution_count": 7,
   "id": "e80982df",
   "metadata": {},
   "outputs": [
    {
     "name": "stdout",
     "output_type": "stream",
     "text": [
      "2023-03-16 13:30:53.317559\n",
      "2023/03/1613:30:53\n"
     ]
    }
   ],
   "source": [
    "from datetime import datetime\n",
    "import time\n",
    "\n",
    "today = datetime.now()\n",
    "print(today)\n",
    "today_str=today.strftime('%Y/%m/%d%H:%M:%S')\n",
    "print(today_str)"
   ]
  },
  {
   "cell_type": "markdown",
   "id": "905ef74c",
   "metadata": {},
   "source": [
    "# Logger Fuction 작성해보세요\n",
    "형식 .... logging.csv\n",
    "    시간                     사람           AI       결과\n",
    "2023-03-16 13:28:27.220282  사람 : 가위 vs AI : 보   결과 : 사람 승리\n",
    ".\n",
    ".\n",
    ".\n",
    "\n",
    "\n",
    "file I/O\n",
    "function (사람, AI)\n",
    "return 승리자\n",
    "\n",
    "while\n",
    "input 사람\n",
    "random AI\n",
    "call function()\n",
    "save log\n",
    "\n"
   ]
  },
  {
   "cell_type": "code",
   "execution_count": 20,
   "id": "939b4aaf",
   "metadata": {},
   "outputs": [
    {
     "name": "stdout",
     "output_type": "stream",
     "text": [
      "가위-1,바위-2,보-3 (0-종료) : 1\n",
      "2023-03-16 14:05:02.511680,가위,가위,무승부\n",
      "가위-1,바위-2,보-3 (0-종료) : 2\n",
      "2023-03-16 14:05:02.511680,바위,바위,무승부\n",
      "가위-1,바위-2,보-3 (0-종료) : 1\n",
      "2023-03-16 14:05:02.511680,가위,바위,AI\n",
      "가위-1,바위-2,보-3 (0-종료) : 2\n",
      "2023-03-16 14:05:02.511680,바위,보,AI\n",
      "가위-1,바위-2,보-3 (0-종료) : 1\n",
      "2023-03-16 14:05:02.511680,가위,가위,무승부\n",
      "가위-1,바위-2,보-3 (0-종료) : 2\n",
      "2023-03-16 14:05:02.511680,바위,바위,무승부\n",
      "가위-1,바위-2,보-3 (0-종료) : 1\n",
      "2023-03-16 14:05:02.511680,가위,보,사람\n",
      "가위-1,바위-2,보-3 (0-종료) : 0\n"
     ]
    }
   ],
   "source": [
    "from datetime import datetime\n",
    "import random\n",
    "\n",
    "msg = {1:'가위', 2:'바위', 3:'보'}\n",
    "\n",
    "def rsp(me,ai):\n",
    "    result = \"\"\n",
    "    if me==1 and ai==3:\n",
    "        result = '사람'        \n",
    "    elif me==2 and ai==1:\n",
    "        result = '사람'        \n",
    "    elif me==3 and ai==2:\n",
    "        result = '사람'        \n",
    "    elif me==1 and ai==2:\n",
    "        result = 'AI'        \n",
    "    elif me==2 and ai==3:\n",
    "        result = 'AI'      \n",
    "    elif me==3 and ai==1:\n",
    "        result = 'AI'       \n",
    "    elif me == ai:\n",
    "        result = '무승부'\n",
    "    return result\n",
    "    \n",
    "\n",
    "today = datetime.now()\n",
    "file = open('logging.csv','w')\n",
    "file.write('시간,사람,AI,승리\\n')\n",
    "\n",
    "while True:\n",
    "    result = \"\"\n",
    "    me = int(input('가위-1,바위-2,보-3 (0-종료) : '))\n",
    "    if me ==0:\n",
    "        break\n",
    "    ai = random.randint(1,3)\n",
    "    result = rsp(me,ai)\n",
    "    print('{},{},{},{}'.format(today,msg[me],msg[ai],result))\n",
    "    file.write('{},{},{},{}\\n'.format(\" \"+today,msg[me],msg[ai],result))\n",
    "file.close()    "
   ]
  },
  {
   "cell_type": "markdown",
   "id": "d497f37b",
   "metadata": {},
   "source": [
    "# 코딩...? 제일 먼저 무엇을 해야하나"
   ]
  },
  {
   "cell_type": "code",
   "execution_count": 29,
   "id": "f6d67b07",
   "metadata": {},
   "outputs": [
    {
     "name": "stdout",
     "output_type": "stream",
     "text": [
      "1st 입력 : 1\n",
      "2nd 입력 : 3\n",
      "1+3=4\n",
      "3+1=4\n",
      "덧셈의 교환법칙이 성립합니다.\n"
     ]
    }
   ],
   "source": [
    "a = int(input('1st 입력 : '))\n",
    "b = int(input('2nd 입력 : '))\n",
    "c = a+b\n",
    "d = b+a\n",
    "if c==d:\n",
    "    print('{}+{}={}'.format(a,b,c))\n",
    "    print('{}+{}={}'.format(b,a,d))\n",
    "    print('덧셈의 교환법칙이 성립합니다.')\n",
    "else:\n",
    "    print('덧셈의 교환법칙이 성립하지 않습니다.')"
   ]
  },
  {
   "cell_type": "markdown",
   "id": "5b057a97",
   "metadata": {},
   "source": [
    "# 바코드 암호화 /복호화 코드를 작성"
   ]
  },
  {
   "cell_type": "code",
   "execution_count": null,
   "id": "49aec24c",
   "metadata": {},
   "outputs": [],
   "source": [
    "123-> :::||::|:|::||: 으로 출력\n",
    ":::||::|:|::||:-> 123으로 출력                               "
   ]
  },
  {
   "cell_type": "code",
   "execution_count": 5,
   "id": "240633b9",
   "metadata": {},
   "outputs": [
    {
     "name": "stdout",
     "output_type": "stream",
     "text": [
      "['||:::', ':::||', '::|:|', '::||:', ':|::|', ':|:|:', ':||::', '|:::|', '|::|:', '|:|::']\n"
     ]
    }
   ],
   "source": [
    "secretCode = ['||:::',':::||','::|:|','::||:',':|::|',':|:|:',':||::','|:::|','|::|:','|:|::']\n",
    "print(secretCode)\n"
   ]
  },
  {
   "cell_type": "code",
   "execution_count": null,
   "id": "2665379e",
   "metadata": {},
   "outputs": [],
   "source": [
    "def bar(n):\n",
    "    if n=='0':\n",
    "        code = '||:::'\n",
    "    elif n=='1':  \n",
    "        code= ':::||'\n",
    "    elif n=='2': \n",
    "        code= '::|:|'\n",
    "    elif n=='3':\n",
    "        code='::||:'\n",
    "    elif n=='4':\n",
    "        code=':|::|'\n",
    "    elif n=='5':\n",
    "        code=':|:|:'\n",
    "    elif n=='6':\n",
    "        code=':||::'\n",
    "    elif n=='7':\n",
    "        code='|:::|'\n",
    "    elif n=='8':\n",
    "        code='|::|:'\n",
    "    elif n=='9':\n",
    "        code='|:|::'\n",
    "    else:\n",
    "        code = 'error'\n",
    "    return code\n",
    "while True:\n",
    "    \n",
    "        \n",
    "\n",
    "\n",
    "\n"
   ]
  },
  {
   "cell_type": "code",
   "execution_count": null,
   "id": "e50c14c1",
   "metadata": {},
   "outputs": [],
   "source": [
    "123-> :::||  ::|:|  ::||: 으로 출력\n",
    "                                    \n",
    "                                    "
   ]
  },
  {
   "cell_type": "code",
   "execution_count": 10,
   "id": "8436d4da",
   "metadata": {},
   "outputs": [
    {
     "name": "stdout",
     "output_type": "stream",
     "text": [
      "||::: :::||\n",
      "<class 'list'>\n"
     ]
    }
   ],
   "source": [
    "secretCode = ['||:::',':::||','::|:|','::||:',':|::|',':|:|:',':||::','|:::|','|::|:','|:|::']\n",
    "print(secretCode[0],secretCode[1])\n",
    "print(type(secretCode))"
   ]
  },
  {
   "cell_type": "markdown",
   "id": "16ad157e",
   "metadata": {},
   "source": [
    "# 1단계 :123 -> 바코드"
   ]
  },
  {
   "cell_type": "code",
   "execution_count": 15,
   "id": "e86a79d2",
   "metadata": {},
   "outputs": [
    {
     "name": "stdout",
     "output_type": "stream",
     "text": [
      "1\n",
      "<class 'str'>\n",
      "1:::||\n",
      "2\n",
      "<class 'str'>\n",
      "2::|:|\n",
      "3\n",
      "<class 'str'>\n",
      "3::||:\n"
     ]
    }
   ],
   "source": [
    "strNums = '123'\n",
    "\n",
    "#print(type(strNums))#int -> string ... char char char... char\n",
    "#1\n",
    "#print('[1] '+secretCode[1])\n",
    "#2\n",
    "#print('[2] '+secretCode[2])\n",
    "#3\n",
    "#print('[3] '+secretCode[3])\n",
    "\n",
    "def ConvertNumsToBarCode(strNums):\n",
    "    strBarCodes = ''\n",
    "    for n in strNums:\n",
    "        #print(n)\n",
    "        #print(type(n))        \n",
    "        #print('{} '.format(n)+secretCode[int(n)])\n",
    "        strBarCodes = strBarCodes +secretCode[int(n)]\n",
    "    #print(strNums + '->'+ strBarCodes)\n",
    "    return strBarCodes\n",
    "   \n",
    "strBarCodes = ConvertNumsToBarCode(strNums)\n",
    "print(strNums + '->'+ strBarCodes)\n",
    "#1단계 : 123 -> :::||::|:|::||:"
   ]
  },
  {
   "cell_type": "code",
   "execution_count": 17,
   "id": "777a737d",
   "metadata": {},
   "outputs": [
    {
     "name": "stdout",
     "output_type": "stream",
     "text": [
      "123->:::||::|:|::||:\n"
     ]
    }
   ],
   "source": [
    "strNums = '123'\n",
    "def ConvertNumsToBarCode(strNums):\n",
    "    strBarCodes = ''\n",
    "    for n in strNums:\n",
    "        strBarCodes += secretCode[int(n)]\n",
    "    return strBarCodes\n",
    "\n",
    "strBarCodes = ConvertNumsToBarCode(strNums)\n",
    "print(strNums + '->'+ strBarCodes)"
   ]
  },
  {
   "cell_type": "markdown",
   "id": "06a7fff4",
   "metadata": {},
   "source": [
    "# 2단계 바코드->숫자"
   ]
  },
  {
   "cell_type": "code",
   "execution_count": 20,
   "id": "32b8cb01",
   "metadata": {},
   "outputs": [
    {
     "name": "stdout",
     "output_type": "stream",
     "text": [
      "[0] :||:::,   [0] Size : 5\n",
      "======================================================================\n",
      "function param : :::||::|:|::||:\n",
      "intputSize - 15\n",
      "ptrnSize - 5\n",
      "stepSize - 3\n",
      "sub string ptrn - :::||\n",
      "sub string ptrn - ::|:|\n",
      "sub string ptrn - ::||:\n"
     ]
    }
   ],
   "source": [
    "strBarcodes = ':::||::|:|::||:'\n",
    "\n",
    "print('[0] :'+secretCode[0] + ',   [0] Size : ' + str(len(secretCode[0])))\n",
    "print('='*70)\n",
    "def ConvertBarCodeToNums(strBarCodes):\n",
    "    print('function param : ' + strBarCodes)\n",
    "    #:::||::|:|::||: ... input 15 ... inputSize\n",
    "    #:::||           ... div    5 ... ptrnSize\n",
    "    #                    step   3 ... stepSize\n",
    "    intputSize = len(strBarCodes)#15\n",
    "    ptrnSize = len(secretCode[0])#5\n",
    "    stepSize = int(intputSize / ptrnSize)#3\n",
    "    print('intputSize - ' + str(intputSize))\n",
    "    print('ptrnSize - ' + str(ptrnSize))\n",
    "    print('stepSize - ' + str(stepSize))\n",
    "    \n",
    "    #for(int n=0; n<inputSize; n+=stepSize)\n",
    "    for n in range(0,intputSize,ptrnSize):\n",
    "        #ptrn1 = strBarCodes[0:0+5]#0->n, 5->ptrnSize\n",
    "        ptrn = strBarCodes[n:n+ptrnSize]#0->n, 5->ptrnSize\n",
    "        print('sub string ptrn - ' + ptrn)\n",
    "    \n",
    "    \n",
    "    #var -> for iterable\n",
    "    #ptrn1 = strBarCodes[0:0+5]#1   jump 5\n",
    "    #ptrn2 = strBarCodes[5:5+5]#2   jump 5\n",
    "    #ptrn3 = strBarCodes[10:10+5]#3\n",
    "    \n",
    "    #print('sub string ptrn1 - ' + ptrn1)\n",
    "    \n",
    "ConvertBarCodeToNums(strBarCodes)"
   ]
  },
  {
   "cell_type": "code",
   "execution_count": 21,
   "id": "e5cbad15",
   "metadata": {},
   "outputs": [
    {
     "name": "stdout",
     "output_type": "stream",
     "text": [
      "Barcodes - :::||::|:|::||:\n",
      "Nums - 123\n"
     ]
    }
   ],
   "source": [
    "strBarcodes = ':::||::|:|::||:'\n",
    "def ConvertBarCodeToNums1(strBarCodes):\n",
    "    intputSize = len(strBarCodes)#15\n",
    "    ptrnSize = len(secretCode[0])#5\n",
    "    strfindNums = ''\n",
    "    for n in range(0,intputSize,ptrnSize):\n",
    "        ptrn = strBarCodes[n:n+ptrnSize]#0->n, 5->ptrnSize\n",
    "        idx = 0\n",
    "        find_idx = 0\n",
    "        for code in secretCode:#get index -> value ... 0 index....0 value [LIST]\n",
    "            if code == ptrn:\n",
    "                find_idx = idx\n",
    "                strfindNums += str(find_idx)\n",
    "                break\n",
    "            else:\n",
    "                idx+=1\n",
    "    return strfindNums\n",
    "def ConvertBarCodeToNums2(strBarcodes):\n",
    "    ptrnSz = len(secretCode[0])\n",
    "    ptrnCount = len(strBarcodes)/ptrnSz\n",
    "    ptrnNums = ''\n",
    "    for x in range(0,len(strBarcodes),ptrnSz):\n",
    "        ptrn = strBarcodes[x:x+ptrnSz]\n",
    "        for k in range(len(secretCode)):\n",
    "            if ptrn == secretCode[k]:\n",
    "                ptrnNums+=str(k)\n",
    "    return ptrnNums\n",
    "\n",
    "\n",
    "print('Barcodes - {}'.format(strBarcodes))    \n",
    "strNums = ConvertBarCodeToNums2(strBarCodes) \n",
    "print('Nums - {}'.format(strNums))    "
   ]
  },
  {
   "cell_type": "code",
   "execution_count": null,
   "id": "63b5fd57",
   "metadata": {},
   "outputs": [],
   "source": []
  },
  {
   "cell_type": "code",
   "execution_count": null,
   "id": "495d13fc",
   "metadata": {},
   "outputs": [],
   "source": [
    "[index access] for(int i=0; i<10; i++) => for i in range(0,10,1)...iterable\n",
    "                                          for i in range(len(secretCodes))\n",
    "    \n",
    "    \n",
    "[pointer] for(auto i = v.begin(); i != v.end(); i++)\n",
    "std::vector<int> v;\n",
    "v[0]\n",
    "v.begin()\n",
    "for x in secretCodes:#   secretCodes   ...iterable"
   ]
  },
  {
   "cell_type": "code",
   "execution_count": 22,
   "id": "5e45b58b",
   "metadata": {},
   "outputs": [
    {
     "name": "stdout",
     "output_type": "stream",
     "text": [
      "['||:::', ':::||', '::|:|', '::||:', ':|::|', ':|:|:', ':||::', '|:::|', '|::|:', '|:|::']\n"
     ]
    }
   ],
   "source": [
    "secret = ['||:::',':::||','::|:|','::||:',':|::|',\n",
    "            ':|:|:',':||::','|:::|','|::|:','|:|::']\n",
    "print(secret)"
   ]
  },
  {
   "cell_type": "code",
   "execution_count": 23,
   "id": "dad94548",
   "metadata": {},
   "outputs": [
    {
     "name": "stdout",
     "output_type": "stream",
     "text": [
      "5\n",
      "2\n",
      "8\n",
      ":|:|:::|:||::|:\n"
     ]
    }
   ],
   "source": [
    "strNums = '528'\n",
    "def ConvertNumsToBarcodes(strNums):\n",
    "    strBarcodes=''\n",
    "    '''for i,n in enumerate(strNums):#i-index, n-value via Tuple\n",
    "        print(i,n)\n",
    "        strBarcodes+=barCodes[i]'''\n",
    "    '''for i in range(len(strNums)):\n",
    "        strBarcodes+=barCodes[i]'''\n",
    "    for i in strNums:\n",
    "        print(i)# i - str , in strNums\n",
    "        i=int(i)# convert str to int\n",
    "        strBarcodes+=secret[i]\n",
    "    return strBarcodes\n",
    "print(ConvertNumsToBarcodes(strNums))"
   ]
  },
  {
   "cell_type": "code",
   "execution_count": 24,
   "id": "3d57896f",
   "metadata": {},
   "outputs": [
    {
     "name": "stdout",
     "output_type": "stream",
     "text": [
      "0 5\n",
      ":|:|:\n",
      "5 10\n",
      "::|:|\n",
      "10 15\n",
      "|::|:\n",
      "result : 528\n"
     ]
    }
   ],
   "source": [
    "strBarcodes = ':|:|:::|:||::|:'\n",
    "def ConvertBarcodesToNums(strBarcodes):\n",
    "    ptrnSz = len(secret[0])\n",
    "    ptrnCount = len(strBarcodes)/ptrnSz\n",
    "    ptrnNums = ''\n",
    "    for x in range(0,len(strBarcodes),ptrnSz):\n",
    "        print(x,x+ptrnSz)\n",
    "        ptrn = strBarcodes[x:x+ptrnSz]\n",
    "        print(ptrn)\n",
    "        for k in range(len(secret)):\n",
    "            if ptrn == secret[k]:\n",
    "                ptrnNums+=str(k)\n",
    "    return ptrnNums\n",
    "print('result : ' + str(ConvertBarcodesToNums(strBarcodes)))"
   ]
  },
  {
   "cell_type": "code",
   "execution_count": 13,
   "id": "822baa52",
   "metadata": {},
   "outputs": [
    {
     "name": "stdout",
     "output_type": "stream",
     "text": [
      "B\n",
      "<class 'str'>\n"
     ]
    }
   ],
   "source": [
    "seat_input = list('B11')\n",
    "seat_input_name = seat_input[0]\n",
    "seat_input_number = ''.join(seat_input[1:])\n",
    "print(seat_input_name)\n",
    "print(seat_input_number)\n",
    "print(type(seat_input_number))"
   ]
  },
  {
   "cell_type": "code",
   "execution_count": 11,
   "id": "ad386de3",
   "metadata": {},
   "outputs": [
    {
     "name": "stdout",
     "output_type": "stream",
     "text": [
      "원하는 좌석을 선택해주세요(예:F11) :F3\n",
      "좌석번호 : F3\n"
     ]
    }
   ],
   "source": [
    "seat =[\n",
    " ['EC','EC','EC','EC','EC','EC','EC','EC','EC','EC','EC','EC'],\n",
    " ['EC','EC','EC','EC','EC','EC','EC','EC','EC','EC','EC','EC'],\n",
    " ['EC','EC','RE','RE','RE','RE','RE','RE','RE','RE','EC','EC'],\n",
    " ['EC','EC','RE','RE','RE','RE','RE','RE','RE','RE','EC','EC'],\n",
    " ['EC','EC','RE','RE','RE','RE','RE','RE','RE','RE','EC','EC'],\n",
    " ['EC','EC','RE','RE','RE','RE','RE','RE','RE','RE','EC','EC'],\n",
    " ['SP','SP','SP','SP','SP','SP','SP','SP','SP','SP','SP','SP'],\n",
    " ['SP','SP','SP','SP','SP','SP','SP','SP','SP','SP','SP','SP']]\n",
    "\n",
    "seat_name=['A','B','C','D','E','F','G','H']\n",
    "price = {'EC':'7000원', 'RE':'8,000원', 'SP':'10,000원'}\n",
    "#def changeSeat(seat):\n",
    "\n",
    "choice = input('원하는 좌석을 선택해주세요(예:F11) :')\n",
    "seat_input = choice\n",
    "seat_input_name = str(seat_input[0])\n",
    "seat_input_number = int(seat_input[1:])\n",
    "\n",
    "if ('H' >= seat_input_name and seat_input_name >='A') and (12 >= seat_input_number and seat_input_number >= 1):\n",
    "    print('좌석번호 : {}'.format(seat_input))\n",
    "else :\n",
    "    print('좌석번호가 잘못되었습니다. 다시 입력해주세요')\n"
   ]
  },
  {
   "cell_type": "code",
   "execution_count": 13,
   "id": "fd648215",
   "metadata": {},
   "outputs": [
    {
     "name": "stdout",
     "output_type": "stream",
     "text": [
      "RE\n",
      "8000원\n"
     ]
    }
   ],
   "source": [
    "index = seat_name.index(seat_input_name)\n",
    "\n",
    "pseat = seat[index][seat_input_number-1]\n",
    "print(pseat)\n",
    "if pseat == 'RE':\n",
    "    print('8000원')\n",
    "elif pseat== 'EC':\n",
    "    print('7000원')\n",
    "else:\n",
    "    print('10000원')"
   ]
  },
  {
   "cell_type": "code",
   "execution_count": 24,
   "id": "2413e2f5",
   "metadata": {},
   "outputs": [
    {
     "name": "stdout",
     "output_type": "stream",
     "text": [
      "EC : 7000원, RE : 8000원, SP: 10000원\n",
      "\n",
      "- 좌석배치도\n",
      "\n",
      "   |  1   |  2   |  3   |  4   |  5   |  6   |  7   |  8   |  9   |  10  |  11  |  12  |\n",
      "--------------------------------------------------------------------------------------------\n",
      "A  |  EC  |  EC  |  EC  |  EC  |  EC  |  EC  |  EC  |  EC  |  EC  |  EC  |  EC  |  EC  |\n",
      "--------------------------------------------------------------------------------------------\n",
      "B  |  EC  |  EC  |  EC  |  EC  |  EC  |  EC  |  EC  |  EC  |  EC  |  EC  |  EC  |  EC  |\n",
      "--------------------------------------------------------------------------------------------\n",
      "C  |  EC  |  EC  |  RE  |  RE  |  RE  |  RE  |  RE  |  RE  |  RE  |  RE  |  EC  |  EC  |\n",
      "--------------------------------------------------------------------------------------------\n",
      "D  |  EC  |  EC  |  RE  |  RE  |  RE  |  RE  |  RE  |  RE  |  RE  |  RE  |  EC  |  EC  |\n",
      "--------------------------------------------------------------------------------------------\n",
      "E  |  EC  |  EC  |  RE  |  RE  |  RE  |  RE  |  RE  |  RE  |  RE  |  RE  |  EC  |  EC  |\n",
      "--------------------------------------------------------------------------------------------\n",
      "F  |  EC  |  EC  |  RE  |  RE  |  RE  |  RE  |  RE  |  RE  |  RE  |  RE  |  EC  |  EC  |\n",
      "--------------------------------------------------------------------------------------------\n",
      "G  |  SP  |  SP  |  SP  |  SP  |  SP  |  SP  |  SP  |  SP  |  SP  |  SP  |  SP  |  SP  |\n",
      "--------------------------------------------------------------------------------------------\n",
      "H  |  SP  |  SP  |  SP  |  SP  |  SP  |  SP  |  SP  |  SP  |  SP  |  SP  |  SP  |  SP  |\n",
      "--------------------------------------------------------------------------------------------\n",
      "원하는 좌석을 선택해주세요. (예 : F11) : @0\n",
      "원하는 좌석을 선택해주세요. (예 : F11) : @1\n",
      "원하는 좌석을 선택해주세요. (예 : F11) : A0\n",
      "좌석번호 : A0\n",
      "티켓 가격 : 7000\n"
     ]
    }
   ],
   "source": [
    "seatList = {    \n",
    "    ' ': ['1 ',  '2 ',  '3 ',  '4 ',  '5 ',  '6 ',  '7 ',  '8 ',  '9 ',  '10', '11', '12'],\n",
    "    'A': ['EC', 'EC', 'EC', 'EC', 'EC', 'EC', 'EC', 'EC', 'EC', 'EC', 'EC', 'EC'],\n",
    "    'B': ['EC', 'EC', 'EC', 'EC', 'EC', 'EC', 'EC', 'EC', 'EC', 'EC', 'EC', 'EC'],\n",
    "    'C': ['EC', 'EC', 'RE', 'RE', 'RE', 'RE', 'RE', 'RE', 'RE', 'RE', 'EC', 'EC'],\n",
    "    'D': ['EC', 'EC', 'RE', 'RE', 'RE', 'RE', 'RE', 'RE', 'RE', 'RE', 'EC', 'EC'],\n",
    "    'E': ['EC', 'EC', 'RE', 'RE', 'RE', 'RE', 'RE', 'RE', 'RE', 'RE', 'EC', 'EC'],\n",
    "    'F': ['EC', 'EC', 'RE', 'RE', 'RE', 'RE', 'RE', 'RE', 'RE', 'RE', 'EC', 'EC'],\n",
    "    'G': ['SP', 'SP', 'SP', 'SP', 'SP', 'SP', 'SP', 'SP', 'SP', 'SP', 'SP', 'SP'],\n",
    "    'H': ['SP', 'SP', 'SP', 'SP', 'SP', 'SP', 'SP', 'SP', 'SP', 'SP', 'SP', 'SP']\n",
    "}\n",
    "\n",
    "price = {'EC':7000,'RE':8000,'SP':10000}\n",
    "\n",
    "state = 0\n",
    "\n",
    "print('EC : {}원, RE : {}원, SP: {}원\\n'.format(price['EC'],price['RE'],price['SP']))\n",
    "print('- 좌석배치도\\n')\n",
    "\n",
    "for key,value in seatList.items():\n",
    "    print(key+'  | ' + ' ',end='')\n",
    "    for col in range(len(value)):\n",
    "        if col == 11:\n",
    "            print(value[col]+'  |')\n",
    "        else:    \n",
    "            print(value[col]+'  | '+ ' ',end = '')\n",
    "    print('-'*92)    \n",
    "\n",
    "while state != 1:\n",
    "    seat = str(input('원하는 좌석을 선택해주세요. (예 : F11) : '))\n",
    "    if ord('H') < ord(seat[0]) or int(seat[1:]) > 12:\n",
    "                print('좌석번호가 잘못되었습니다. 다시 입력해주세요')    \n",
    "    for key,value in seatList.items():\n",
    "        if key == seat[0]:\n",
    "            print('좌석번호 : ' + seat)\n",
    "            print('티켓 가격 : ' + str(price[value[int(seat[1:])-1]]))\n",
    "            state = 1"
   ]
  },
  {
   "cell_type": "code",
   "execution_count": 3,
   "id": "c34a6a5d",
   "metadata": {},
   "outputs": [
    {
     "ename": "NameError",
     "evalue": "name 'A' is not defined",
     "output_type": "error",
     "traceback": [
      "\u001b[1;31m---------------------------------------------------------------------------\u001b[0m",
      "\u001b[1;31mNameError\u001b[0m                                 Traceback (most recent call last)",
      "Cell \u001b[1;32mIn[3], line 2\u001b[0m\n\u001b[0;32m      1\u001b[0m array\u001b[38;5;241m=\u001b[39m[[\u001b[38;5;124m\"\u001b[39m\u001b[38;5;124mA\u001b[39m\u001b[38;5;124m\"\u001b[39m,\u001b[38;5;241m2\u001b[39m,\u001b[38;5;241m3\u001b[39m],[\u001b[38;5;124m\"\u001b[39m\u001b[38;5;124mB\u001b[39m\u001b[38;5;124m\"\u001b[39m,\u001b[38;5;241m3\u001b[39m,\u001b[38;5;241m4\u001b[39m],[\u001b[38;5;124m\"\u001b[39m\u001b[38;5;124mC\u001b[39m\u001b[38;5;124m\"\u001b[39m,\u001b[38;5;241m5\u001b[39m,\u001b[38;5;241m6\u001b[39m]]\n\u001b[1;32m----> 2\u001b[0m \u001b[38;5;28mprint\u001b[39m(array[\u001b[43mA\u001b[49m][\u001b[38;5;241m2\u001b[39m])\n",
      "\u001b[1;31mNameError\u001b[0m: name 'A' is not defined"
     ]
    }
   ],
   "source": []
  },
  {
   "cell_type": "code",
   "execution_count": null,
   "id": "31240363",
   "metadata": {},
   "outputs": [],
   "source": []
  }
 ],
 "metadata": {
  "kernelspec": {
   "display_name": "Python 3 (ipykernel)",
   "language": "python",
   "name": "python3"
  },
  "language_info": {
   "codemirror_mode": {
    "name": "ipython",
    "version": 3
   },
   "file_extension": ".py",
   "mimetype": "text/x-python",
   "name": "python",
   "nbconvert_exporter": "python",
   "pygments_lexer": "ipython3",
   "version": "3.9.16"
  }
 },
 "nbformat": 4,
 "nbformat_minor": 5
}
